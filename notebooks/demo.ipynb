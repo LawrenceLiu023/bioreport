{
 "cells": [
  {
   "cell_type": "code",
   "execution_count": 1,
   "metadata": {},
   "outputs": [],
   "source": [
    "import pathlib\n",
    "import bioreport"
   ]
  },
  {
   "cell_type": "code",
   "execution_count": 2,
   "metadata": {},
   "outputs": [
    {
     "data": {
      "text/html": [
       "<pre style=\"white-space:pre;overflow-x:auto;line-height:normal;font-family:Menlo,'DejaVu Sans Mono',consolas,'Courier New',monospace\"><span style=\"color: #7fbfbf; text-decoration-color: #7fbfbf\">[05/16/24 18:23:02] </span><span style=\"color: #000080; text-decoration-color: #000080\">INFO    </span> Scanning directory: c:\\Users\\lawrence\\OneDrive\\文档\\git\\bioreport\\notebooks\\..\\test   \n",
       "</pre>\n"
      ],
      "text/plain": [
       "\u001b[2;36m[05/16/24 18:23:02]\u001b[0m\u001b[2;36m \u001b[0m\u001b[34mINFO    \u001b[0m Scanning directory: c:\\Users\\lawrence\\OneDrive\\文档\\git\\bioreport\\notebooks\\..\\test   \n"
      ]
     },
     "metadata": {},
     "output_type": "display_data"
    },
    {
     "data": {
      "text/html": [
       "<pre style=\"white-space:pre;overflow-x:auto;line-height:normal;font-family:Menlo,'DejaVu Sans Mono',consolas,'Courier New',monospace\"><span style=\"color: #7fbfbf; text-decoration-color: #7fbfbf\">                    </span><span style=\"color: #000080; text-decoration-color: #000080\">INFO    </span> Total number of files to match: <span style=\"color: #008080; text-decoration-color: #008080; font-weight: bold\">9</span>                                                     \n",
       "</pre>\n"
      ],
      "text/plain": [
       "\u001b[2;36m                   \u001b[0m\u001b[2;36m \u001b[0m\u001b[34mINFO    \u001b[0m Total number of files to match: \u001b[1;36m9\u001b[0m                                                     \n"
      ]
     },
     "metadata": {},
     "output_type": "display_data"
    },
    {
     "data": {
      "text/html": [
       "<pre style=\"white-space:pre;overflow-x:auto;line-height:normal;font-family:Menlo,'DejaVu Sans Mono',consolas,'Courier New',monospace\">c:\\ProgramData\\miniconda3\\envs\\main\\Lib\\site-packages\\rich\\live.py:231: UserWarning: install \"ipywidgets\" for \n",
       "Jupyter support\n",
       "  warnings.warn('install \"ipywidgets\" for Jupyter support')\n",
       "</pre>\n"
      ],
      "text/plain": [
       "c:\\ProgramData\\miniconda3\\envs\\main\\Lib\\site-packages\\rich\\live.py:231: UserWarning: install \"ipywidgets\" for \n",
       "Jupyter support\n",
       "  warnings.warn('install \"ipywidgets\" for Jupyter support')\n"
      ]
     },
     "metadata": {},
     "output_type": "display_data"
    },
    {
     "data": {
      "text/html": [
       "<pre style=\"white-space:pre;overflow-x:auto;line-height:normal;font-family:Menlo,'DejaVu Sans Mono',consolas,'Courier New',monospace\"></pre>\n"
      ],
      "text/plain": []
     },
     "metadata": {},
     "output_type": "display_data"
    },
    {
     "data": {
      "text/html": [
       "<pre style=\"white-space:pre;overflow-x:auto;line-height:normal;font-family:Menlo,'DejaVu Sans Mono',consolas,'Courier New',monospace\">\n",
       "</pre>\n"
      ],
      "text/plain": [
       "\n"
      ]
     },
     "metadata": {},
     "output_type": "display_data"
    },
    {
     "data": {
      "text/plain": [
       "[Report(path: \"c:\\Users\\lawrence\\OneDrive\\文档\\git\\bioreport\\notebooks\\..\\test\\report\\00007013_bismark_bt2_pe.deduplication_report.txt\", type: \"('bismark', 'deduplicate')\"),\n",
       " Report(path: \"c:\\Users\\lawrence\\OneDrive\\文档\\git\\bioreport\\notebooks\\..\\test\\report\\00007013_bismark_bt2_PE_report.txt\", type: \"('bismark', 'align')\"),\n",
       " Report(path: \"c:\\Users\\lawrence\\OneDrive\\文档\\git\\bioreport\\notebooks\\..\\test\\report\\00007013_fastp_report.html\", type: \"('fastp', 'html')\"),\n",
       " Report(path: \"c:\\Users\\lawrence\\OneDrive\\文档\\git\\bioreport\\notebooks\\..\\test\\report\\00007013_negative_lambda_bismark_bt2_PE_report.txt\", type: \"('bismark', 'align')\"),\n",
       " Report(path: \"c:\\Users\\lawrence\\OneDrive\\文档\\git\\bioreport\\notebooks\\..\\test\\report\\00007013_positive_puc19_bismark_bt2_PE_report.txt\", type: \"('bismark', 'align')\")]"
      ]
     },
     "metadata": {},
     "output_type": "display_data"
    }
   ],
   "source": [
    "test_dir_path = pathlib.Path(\"../test\")\n",
    "report_list:list[bioreport.Report] = bioreport.scan_dir(test_dir_path)\n",
    "display(report_list)"
   ]
  },
  {
   "cell_type": "code",
   "execution_count": 3,
   "metadata": {},
   "outputs": [
    {
     "data": {
      "text/plain": [
       "[ReportSum(type: \"('bismark', 'deduplicate')\", name: \"00007013_bismark_bt2_pe.deduplication_report.txt\"),\n",
       " ReportSum(type: \"('bismark', 'align')\", name: \"00007013_bismark_bt2_PE_report.txt\"),\n",
       " ReportSum(type: \"('fastp', 'html')\", name: \"00007013_fastp_report.html\"),\n",
       " ReportSum(type: \"('bismark', 'align')\", name: \"00007013_negative_lambda_bismark_bt2_PE_report.txt\"),\n",
       " ReportSum(type: \"('bismark', 'align')\", name: \"00007013_positive_puc19_bismark_bt2_PE_report.txt\")]"
      ]
     },
     "metadata": {},
     "output_type": "display_data"
    }
   ],
   "source": [
    "report_sum_list:list[bioreport.ReportSum] = [r.parse() for r in report_list]\n",
    "display(report_sum_list)"
   ]
  },
  {
   "cell_type": "code",
   "execution_count": 4,
   "metadata": {},
   "outputs": [
    {
     "ename": "ValueError",
     "evalue": "All report_sums must have the same module. The modules of the reports are: ('bismark', 'deduplicate'),('bismark', 'align'),('fastp', 'html'),('bismark', 'align'),('bismark', 'align')",
     "output_type": "error",
     "traceback": [
      "\u001b[1;31m---------------------------------------------------------------------------\u001b[0m",
      "\u001b[1;31mValueError\u001b[0m                                Traceback (most recent call last)",
      "Cell \u001b[1;32mIn[4], line 1\u001b[0m\n\u001b[1;32m----> 1\u001b[0m \u001b[43mbioreport\u001b[49m\u001b[38;5;241;43m.\u001b[39;49m\u001b[43mReportSum\u001b[49m\u001b[38;5;241;43m.\u001b[39;49m\u001b[43mconcat\u001b[49m\u001b[43m(\u001b[49m\u001b[43mreport_sum_list\u001b[49m\u001b[43m)\u001b[49m\n",
      "File \u001b[1;32mc:\\ProgramData\\miniconda3\\envs\\main\\Lib\\site-packages\\bioreport\\report_sum.py:78\u001b[0m, in \u001b[0;36mReportSum.concat\u001b[1;34m(cls, report_sums, join)\u001b[0m\n\u001b[0;32m     76\u001b[0m \u001b[38;5;28;01mif\u001b[39;00m \u001b[38;5;28mlen\u001b[39m(\u001b[38;5;28mset\u001b[39m(report_sum_module_list)) \u001b[38;5;241m>\u001b[39m \u001b[38;5;241m1\u001b[39m:\n\u001b[0;32m     77\u001b[0m     error_modules_str: \u001b[38;5;28mstr\u001b[39m \u001b[38;5;241m=\u001b[39m \u001b[38;5;124m\"\u001b[39m\u001b[38;5;124m,\u001b[39m\u001b[38;5;124m\"\u001b[39m\u001b[38;5;241m.\u001b[39mjoin(\u001b[38;5;28mlist\u001b[39m(\u001b[38;5;28mmap\u001b[39m(\u001b[38;5;28mstr\u001b[39m, report_sum_module_list)))\n\u001b[1;32m---> 78\u001b[0m     \u001b[38;5;28;01mraise\u001b[39;00m \u001b[38;5;167;01mValueError\u001b[39;00m(\n\u001b[0;32m     79\u001b[0m         \u001b[38;5;124mf\u001b[39m\u001b[38;5;124m\"\u001b[39m\u001b[38;5;124mAll report_sums must have the same module. The modules of the reports are: \u001b[39m\u001b[38;5;132;01m{\u001b[39;00merror_modules_str\u001b[38;5;132;01m}\u001b[39;00m\u001b[38;5;124m\"\u001b[39m\n\u001b[0;32m     80\u001b[0m     )\n\u001b[0;32m     81\u001b[0m multi_report_sum: DataFrame \u001b[38;5;241m=\u001b[39m pd\u001b[38;5;241m.\u001b[39mconcat(\n\u001b[0;32m     82\u001b[0m     [report_sum\u001b[38;5;241m.\u001b[39mdata \u001b[38;5;28;01mfor\u001b[39;00m report_sum \u001b[38;5;129;01min\u001b[39;00m report_sums], axis\u001b[38;5;241m=\u001b[39m\u001b[38;5;241m1\u001b[39m, join\u001b[38;5;241m=\u001b[39mjoin\n\u001b[0;32m     83\u001b[0m )\n\u001b[0;32m     84\u001b[0m multi_report_sum \u001b[38;5;241m=\u001b[39m multi_report_sum\u001b[38;5;241m.\u001b[39mT\n",
      "\u001b[1;31mValueError\u001b[0m: All report_sums must have the same module. The modules of the reports are: ('bismark', 'deduplicate'),('bismark', 'align'),('fastp', 'html'),('bismark', 'align'),('bismark', 'align')"
     ]
    }
   ],
   "source": [
    "bioreport.ReportSum.concat(report_sum_list)"
   ]
  }
 ],
 "metadata": {
  "kernelspec": {
   "display_name": "base",
   "language": "python",
   "name": "python3"
  },
  "language_info": {
   "codemirror_mode": {
    "name": "ipython",
    "version": 3
   },
   "file_extension": ".py",
   "mimetype": "text/x-python",
   "name": "python",
   "nbconvert_exporter": "python",
   "pygments_lexer": "ipython3",
   "version": "3.12.3"
  }
 },
 "nbformat": 4,
 "nbformat_minor": 2
}
