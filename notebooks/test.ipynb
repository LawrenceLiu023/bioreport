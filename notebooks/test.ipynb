{
 "cells": [
  {
   "cell_type": "code",
   "execution_count": 1,
   "metadata": {},
   "outputs": [],
   "source": [
    "import pandas as pd\n",
    "import pathlib\n",
    "import bioreport"
   ]
  },
  {
   "cell_type": "code",
   "execution_count": 2,
   "metadata": {},
   "outputs": [
    {
     "data": {
      "text/html": [
       "<pre style=\"white-space:pre;overflow-x:auto;line-height:normal;font-family:Menlo,'DejaVu Sans Mono',consolas,'Courier New',monospace\"><span style=\"color: #7fbfbf; text-decoration-color: #7fbfbf\">[05/09/24 16:58:19] </span><span style=\"color: #000080; text-decoration-color: #000080\">INFO    </span> Scanning directory:                                                                   \n",
       "<span style=\"color: #7fbfbf; text-decoration-color: #7fbfbf\">                    </span>         <span style=\"color: #800080; text-decoration-color: #800080\">/data-large/methylation/workspaces/gitlab/bioreport/notebooks/../</span><span style=\"color: #ff00ff; text-decoration-color: #ff00ff\">test</span>                 \n",
       "</pre>\n"
      ],
      "text/plain": [
       "\u001b[2;36m[05/09/24 16:58:19]\u001b[0m\u001b[2;36m \u001b[0m\u001b[34mINFO    \u001b[0m Scanning directory:                                                                   \n",
       "\u001b[2;36m                    \u001b[0m         \u001b[35m/data-large/methylation/workspaces/gitlab/bioreport/notebooks/../\u001b[0m\u001b[95mtest\u001b[0m                 \n"
      ]
     },
     "metadata": {},
     "output_type": "display_data"
    },
    {
     "data": {
      "text/html": [
       "<pre style=\"white-space:pre;overflow-x:auto;line-height:normal;font-family:Menlo,'DejaVu Sans Mono',consolas,'Courier New',monospace\"><span style=\"color: #7fbfbf; text-decoration-color: #7fbfbf\">                    </span><span style=\"color: #000080; text-decoration-color: #000080\">INFO    </span> Total number of files to match: <span style=\"color: #008080; text-decoration-color: #008080; font-weight: bold\">9</span>                                                     \n",
       "</pre>\n"
      ],
      "text/plain": [
       "\u001b[2;36m                   \u001b[0m\u001b[2;36m \u001b[0m\u001b[34mINFO    \u001b[0m Total number of files to match: \u001b[1;36m9\u001b[0m                                                     \n"
      ]
     },
     "metadata": {},
     "output_type": "display_data"
    },
    {
     "data": {
      "application/vnd.jupyter.widget-view+json": {
       "model_id": "ba22f1890bf84f16b01ab1f0116e1fee",
       "version_major": 2,
       "version_minor": 0
      },
      "text/plain": [
       "Output()"
      ]
     },
     "metadata": {},
     "output_type": "display_data"
    },
    {
     "data": {
      "text/html": [
       "<pre style=\"white-space:pre;overflow-x:auto;line-height:normal;font-family:Menlo,'DejaVu Sans Mono',consolas,'Courier New',monospace\"></pre>\n"
      ],
      "text/plain": []
     },
     "metadata": {},
     "output_type": "display_data"
    },
    {
     "data": {
      "text/html": [
       "<pre style=\"white-space:pre;overflow-x:auto;line-height:normal;font-family:Menlo,'DejaVu Sans Mono',consolas,'Courier New',monospace\">\n",
       "</pre>\n"
      ],
      "text/plain": [
       "\n"
      ]
     },
     "metadata": {},
     "output_type": "display_data"
    },
    {
     "data": {
      "text/plain": [
       "[Report(path: \"/data-large/methylation/workspaces/gitlab/bioreport/notebooks/../test/report/00007013_fastp_report.html\", type: \"('fastp', 'html')\"),\n",
       " Report(path: \"/data-large/methylation/workspaces/gitlab/bioreport/notebooks/../test/report/00007013_bismark_bt2_pe.deduplication_report.txt\", type: \"('bismark', 'deduplicate')\"),\n",
       " Report(path: \"/data-large/methylation/workspaces/gitlab/bioreport/notebooks/../test/report/00007013_bismark_bt2_PE_report.txt\", type: \"('bismark', 'align')\"),\n",
       " Report(path: \"/data-large/methylation/workspaces/gitlab/bioreport/notebooks/../test/report/00007013_positive_puc19_bismark_bt2_PE_report.txt\", type: \"('bismark', 'align')\"),\n",
       " Report(path: \"/data-large/methylation/workspaces/gitlab/bioreport/notebooks/../test/report/00007013_negative_lambda_bismark_bt2_PE_report.txt\", type: \"('bismark', 'align')\")]"
      ]
     },
     "metadata": {},
     "output_type": "display_data"
    }
   ],
   "source": [
    "test_dir_path = pathlib.Path(\"../test\")\n",
    "report_list:list[bioreport.Report] = bioreport.scan_dir(test_dir_path)\n",
    "display(report_list)"
   ]
  },
  {
   "cell_type": "code",
   "execution_count": 3,
   "metadata": {},
   "outputs": [
    {
     "data": {
      "text/plain": [
       "[ReportSum(type: \"('fastp', 'html')\", name: \"00007013_fastp_report.html\"),\n",
       " ReportSum(type: \"('bismark', 'deduplicate')\", name: \"00007013_bismark_bt2_pe.deduplication_report.txt\"),\n",
       " ReportSum(type: \"('bismark', 'align')\", name: \"00007013_bismark_bt2_PE_report.txt\"),\n",
       " ReportSum(type: \"('bismark', 'align')\", name: \"00007013_positive_puc19_bismark_bt2_PE_report.txt\"),\n",
       " ReportSum(type: \"('bismark', 'align')\", name: \"00007013_negative_lambda_bismark_bt2_PE_report.txt\")]"
      ]
     },
     "metadata": {},
     "output_type": "display_data"
    }
   ],
   "source": [
    "report_sum_list:list[bioreport.ReportSum] = [r.parse() for r in report_list]\n",
    "display(report_sum_list)"
   ]
  }
 ],
 "metadata": {
  "kernelspec": {
   "display_name": "base",
   "language": "python",
   "name": "python3"
  },
  "language_info": {
   "codemirror_mode": {
    "name": "ipython",
    "version": 3
   },
   "file_extension": ".py",
   "mimetype": "text/x-python",
   "name": "python",
   "nbconvert_exporter": "python",
   "pygments_lexer": "ipython3",
   "version": "3.12.2"
  }
 },
 "nbformat": 4,
 "nbformat_minor": 2
}
